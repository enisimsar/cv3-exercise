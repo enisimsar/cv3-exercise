{
 "cells": [
  {
   "cell_type": "markdown",
   "metadata": {
    "colab_type": "text",
    "id": "xABx3A-soZMM"
   },
   "source": [
    "# Computer Vision III: Detection, Segmentation and Tracking (CV3DST) (IN2375) Exercise\n",
    "\n",
    "In this exercise we provide you with a baseline multi-object tracker on the [MOT16](https://motchallenge.net/data/MOT16/) dataset. Your task is to improve its tracking performance by applying different techniques from the lecture. As most modern multi-object trackers, the provided baseline follows the tracking-by-detection paradigm. To this end, an object detector is applied to each frame indepdently and in a subsequent data association step the detections are combined to tracks over multiple frames. The challenge is to connect the correct detections of the same object and produce identity preserving tracks.\n",
    "\n",
    "The improvement on the provided baseline tracker can be achieved in multiple ways:\n",
    "\n",
    "*   Improving the object detector.\n",
    "*   Improving the tracker (data association step).\n",
    "*   Incorporating segmentation information."
   ]
  },
  {
   "cell_type": "markdown",
   "metadata": {
    "colab_type": "text",
    "id": "LFYSSMiwpxSq"
   },
   "source": [
    "#### Install and import Python libraries"
   ]
  },
  {
   "cell_type": "code",
   "execution_count": 1,
   "metadata": {
    "colab": {
     "base_uri": "https://localhost:8080/",
     "height": 476
    },
    "colab_type": "code",
    "id": "KRMsynpFU6gh",
    "outputId": "396226f5-c6e6-479a-f112-d3e1e1edd05a"
   },
   "outputs": [],
   "source": [
    "%load_ext autoreload\n",
    "%autoreload 2\n",
    "%matplotlib inline\n",
    "\n",
    "root_dir = '..'\n",
    "\n",
    "import os\n",
    "import sys\n",
    "sys.path.append(os.path.join(root_dir, 'src'))"
   ]
  },
  {
   "cell_type": "code",
   "execution_count": 2,
   "metadata": {
    "colab": {
     "base_uri": "https://localhost:8080/",
     "height": 51
    },
    "colab_type": "code",
    "id": "RGOohkAgo-hW",
    "outputId": "3a70fe0e-5008-4a91-c131-07c066b903c9"
   },
   "outputs": [
    {
     "name": "stderr",
     "output_type": "stream",
     "text": [
      "/home/deep/miniconda3/envs/tensorflow_gpuenv/lib/python3.7/site-packages/ipykernel_launcher.py:4: TqdmExperimentalWarning: Using `tqdm.autonotebook.tqdm` in notebook mode. Use `tqdm.tqdm` instead to force console mode (e.g. in jupyter console)\n",
      "  after removing the cwd from sys.path.\n"
     ]
    }
   ],
   "source": [
    "import matplotlib.pyplot as plt\n",
    "import numpy as np\n",
    "import time\n",
    "from tqdm.autonotebook import tqdm\n",
    "\n",
    "import torch\n",
    "from torch.utils.data import DataLoader\n",
    "\n",
    "from tracker.data_track import MOT16Sequences\n",
    "from tracker.data_obj_detect import MOT16ObjDetect\n",
    "from tracker.object_detector import FRCNN_FPN\n",
    "from tracker.tracker import Tracker\n",
    "from tracker.utils import (plot_sequence, evaluate_mot_accums, get_mot_accum,\n",
    "                           evaluate_obj_detect, obj_detect_transforms)\n",
    "\n",
    "import motmetrics as mm\n",
    "mm.lap.default_solver = 'lap'"
   ]
  },
  {
   "cell_type": "markdown",
   "metadata": {
    "colab_type": "text",
    "id": "0cvaNe42gIll"
   },
   "source": [
    "# Object detector\n",
    "\n",
    "We provide you with an object detector pretrained on the MOT challenge training set. This detector can be used and improved to generate the framewise detections necessary for the subsequent tracking and data association step.\n",
    "\n",
    "The object detector is a [Faster R-CNN](https://arxiv.org/abs/1506.01497) with a Resnet50 feature extractor. We trained the native PyTorch implementation of Faster-RCNN. For more information check out the corresponding PyTorch [webpage](https://pytorch.org/tutorials/intermediate/torchvision_tutorial.html)."
   ]
  },
  {
   "cell_type": "markdown",
   "metadata": {
    "colab_type": "text",
    "id": "-Qubi7uE6EPd"
   },
   "source": [
    "\n",
    "## Configuration"
   ]
  },
  {
   "cell_type": "code",
   "execution_count": 3,
   "metadata": {
    "colab": {},
    "colab_type": "code",
    "id": "z2g7oHASTa8v"
   },
   "outputs": [],
   "source": [
    "obj_detect_model_file = os.path.join(root_dir, 'models/faster_rcnn_fpn.model')\n",
    "obj_detect_nms_thresh = .6"
   ]
  },
  {
   "cell_type": "code",
   "execution_count": 4,
   "metadata": {
    "colab": {
     "base_uri": "https://localhost:8080/",
     "height": 1000
    },
    "colab_type": "code",
    "id": "JIXdzYMnMhiW",
    "outputId": "1aa4fecb-b6bd-4626-b644-26501e9ac39e"
   },
   "outputs": [],
   "source": [
    "device = torch.device('cuda') if torch.cuda.is_available() else torch.device('cpu')\n",
    "\n",
    "# object detector\n",
    "obj_detect = FRCNN_FPN(num_classes=2, nms_thresh=obj_detect_nms_thresh)\n",
    "obj_detect_state_dict = torch.load(obj_detect_model_file,\n",
    "                                   map_location=lambda storage, loc: storage)\n",
    "obj_detect.load_state_dict(obj_detect_state_dict)\n",
    "obj_detect.eval()\n",
    "obj_detect.to(device);"
   ]
  },
  {
   "cell_type": "markdown",
   "metadata": {
    "colab_type": "text",
    "id": "RS3B32wE0o0q"
   },
   "source": [
    "If you uncomment und run the following evaluation of the object detection training set, you should obtain the following evaluation result:\n",
    "\n",
    "`AP: 0.8677356206210984 Prec: 0.9220907182151947 Rec: 0.9167998134001982 TP: 78611.0 FP: 6642.0`"
   ]
  },
  {
   "cell_type": "code",
   "execution_count": 5,
   "metadata": {
    "colab": {},
    "colab_type": "code",
    "id": "pc6EXVCyBhtV"
   },
   "outputs": [],
   "source": [
    "dataset_test = MOT16ObjDetect(os.path.join(root_dir, 'data/MOT16/test'),\n",
    "                              obj_detect_transforms(train=False))\n",
    "def collate_fn(batch):\n",
    "    return tuple(zip(*batch))\n",
    "data_loader_test = DataLoader(\n",
    "    dataset_test, batch_size=1, shuffle=False, num_workers=4,\n",
    "    collate_fn=collate_fn)\n",
    "\n",
    "# evaluate_obj_detect(obj_detect, data_loader_test)"
   ]
  },
  {
   "cell_type": "markdown",
   "metadata": {
    "colab_type": "text",
    "id": "WGszq40utUfA"
   },
   "source": [
    "# Multi-object tracking\n",
    "\n",
    "We provide you with a simple baseline tracker which predicts object detections for each frame and generates tracks by assigning current detections to previous detections via Intersection over Union.\n",
    "\n",
    "Try to understand the baseline tracker and think of ideas on how to improve it with the knowledge from the lecture or even beyond.\n",
    "\n",
    "## Configuration"
   ]
  },
  {
   "cell_type": "code",
   "execution_count": 6,
   "metadata": {
    "colab": {},
    "colab_type": "code",
    "id": "eQTAqnFptwul"
   },
   "outputs": [],
   "source": [
    "seed = 12345\n",
    "seq_name = 'MOT16-03'\n",
    "data_dir = os.path.join(root_dir, 'data/MOT16')\n",
    "output_dir = os.path.join(root_dir, 'output')"
   ]
  },
  {
   "cell_type": "markdown",
   "metadata": {
    "colab_type": "text",
    "id": "N5KgKxhmMm1r"
   },
   "source": [
    "## Setup"
   ]
  },
  {
   "cell_type": "code",
   "execution_count": 7,
   "metadata": {},
   "outputs": [],
   "source": [
    "from tracker.utils import Map\n",
    "sys.path.append(os.path.join(root_dir, '..', 'flownet2-pytorch'))\n",
    "\n",
    "import models\n",
    "\n",
    "args = Map({\n",
    "    'cuda': torch.cuda.is_available(),\n",
    "    'rgb_max': 255,\n",
    "    'inference_size': [1024, 1920]\n",
    "})\n",
    "\n",
    "flownet = None\n",
    "\n",
    "flownet = models.FlowNet2SD(args).to('cuda')\n",
    "\n",
    "checkpoint = torch.load('../../FlowNet2-SD_checkpoint.pth')\n",
    "flownet.load_state_dict(checkpoint['state_dict'])\n",
    "\n",
    "flownet.eval();"
   ]
  },
  {
   "cell_type": "code",
   "execution_count": 8,
   "metadata": {
    "colab": {},
    "colab_type": "code",
    "id": "jV2c5yengHyC"
   },
   "outputs": [],
   "source": [
    "torch.manual_seed(seed)\n",
    "torch.cuda.manual_seed(seed)\n",
    "np.random.seed(seed)\n",
    "torch.backends.cudnn.deterministic = True\n",
    "\n",
    "# dataset\n",
    "sequences = MOT16Sequences(seq_name, data_dir)\n",
    "\n",
    "tracker = Tracker(obj_detect, flownet=flownet)"
   ]
  },
  {
   "cell_type": "markdown",
   "metadata": {
    "colab_type": "text",
    "id": "IvB1hRhWtwaE"
   },
   "source": [
    "## Run tracker"
   ]
  },
  {
   "cell_type": "code",
   "execution_count": 9,
   "metadata": {
    "colab": {
     "base_uri": "https://localhost:8080/",
     "height": 202,
     "referenced_widgets": [
      "86a641d733894888bbf20683ef21fcec",
      "d9b6477f756449d68d496afb694dce5a",
      "b0ee328142a34e98b303f75ef38603cd",
      "cd5653dc335c42e1bd1a62aa6c072494",
      "97c382d8b5a944e2b2a0dcf22bba88ee",
      "c2eb99d1cd35491c8327b0c91f5268ef",
      "1db65c17ad2c41bcb664316146dc1124",
      "1e58e5e9e91440028a374061916f8a49"
     ]
    },
    "colab_type": "code",
    "id": "bG3QwqUXtVu2",
    "outputId": "20d38e61-fc40-47f7-ace9-4d4ed38d8e07"
   },
   "outputs": [
    {
     "name": "stdout",
     "output_type": "stream",
     "text": [
      "Tracking: MOT16-03\n"
     ]
    },
    {
     "data": {
      "application/vnd.jupyter.widget-view+json": {
       "model_id": "cb2b76e551904ffead0e303176c2cbf8",
       "version_major": 2,
       "version_minor": 0
      },
      "text/plain": [
       "HBox(children=(IntProgress(value=0, max=1500), HTML(value='')))"
      ]
     },
     "metadata": {},
     "output_type": "display_data"
    },
    {
     "name": "stderr",
     "output_type": "stream",
     "text": [
      "/home/deep/miniconda3/envs/tensorflow_gpuenv/lib/python3.7/site-packages/torch/nn/functional.py:2494: UserWarning: Default upsampling behavior when mode=bilinear is changed to align_corners=False since 0.4.0. Please specify align_corners=True if the old behavior is desired. See the documentation of nn.Upsample for details.\n",
      "  \"See the documentation of nn.Upsample for details.\".format(mode))\n"
     ]
    },
    {
     "name": "stdout",
     "output_type": "stream",
     "text": [
      "\n",
      "No GT evaluation data available.\n",
      "Tracks found: 947\n",
      "Runtime for MOT16-03: 707.1 s.\n",
      "Writing predictions to: ../output/MOT16-03.txt\n",
      "Runtime for all sequences: 707.1 s.\n"
     ]
    }
   ],
   "source": [
    "time_total = 0\n",
    "mot_accums = []\n",
    "results_seq = {}\n",
    "for seq in sequences:\n",
    "    tracker.reset()\n",
    "    now = time.time()\n",
    "\n",
    "    print(f\"Tracking: {seq}\")\n",
    "\n",
    "    data_loader = DataLoader(seq, batch_size=1, shuffle=False)\n",
    "\n",
    "    for i, frame in tqdm(enumerate(data_loader), total=len(data_loader)):\n",
    "#         print(i)\n",
    "        tracker.step(frame)\n",
    "        \n",
    "        if i == -1: \n",
    "            break\n",
    " \n",
    "    results = tracker.get_results()\n",
    "    results_seq[str(seq)] = results\n",
    "\n",
    "    if seq.no_gt:\n",
    "        print(f\"No GT evaluation data available.\")\n",
    "    else:\n",
    "        mot_accums.append(get_mot_accum(results, seq))\n",
    "\n",
    "    time_total += time.time() - now\n",
    "\n",
    "    print(f\"Tracks found: {len(results)}\")\n",
    "    print(f\"Runtime for {seq}: {time.time() - now:.1f} s.\")\n",
    "\n",
    "    seq.write_results(results, os.path.join(output_dir))\n",
    "\n",
    "print(f\"Runtime for all sequences: {time_total:.1f} s.\")\n",
    "if mot_accums:\n",
    "    evaluate_mot_accums(mot_accums,\n",
    "                        [str(s) for s in sequences if not s.no_gt],\n",
    "                        generate_overall=True)"
   ]
  },
  {
   "cell_type": "markdown",
   "metadata": {
    "colab_type": "text",
    "id": "X7KPPxqG_5xt"
   },
   "source": [
    "## Visualize tracking results"
   ]
  },
  {
   "cell_type": "code",
   "execution_count": 10,
   "metadata": {
    "colab": {
     "base_uri": "https://localhost:8080/",
     "height": 1000
    },
    "colab_type": "code",
    "id": "pq6tAiUBkBEk",
    "outputId": "b8bd84a0-647a-4442-c5f8-1d0468b516c1"
   },
   "outputs": [],
   "source": [
    "# plot_sequence(results_seq[seq_name],\n",
    "#               [s for s in sequences if str(s) == seq_name][0],\n",
    "#               offset=0,\n",
    "#               first_n_frames=200)"
   ]
  },
  {
   "cell_type": "code",
   "execution_count": 11,
   "metadata": {
    "colab": {
     "base_uri": "https://localhost:8080/",
     "height": 1000
    },
    "colab_type": "code",
    "id": "pq6tAiUBkBEk",
    "outputId": "b8bd84a0-647a-4442-c5f8-1d0468b516c1"
   },
   "outputs": [],
   "source": [
    "# plot_sequence(results_seq[seq_name],\n",
    "#               [s for s in sequences if str(s) == seq_name][0],\n",
    "#               first_n_frames=10)"
   ]
  },
  {
   "cell_type": "code",
   "execution_count": 12,
   "metadata": {
    "colab": {
     "base_uri": "https://localhost:8080/",
     "height": 1000
    },
    "colab_type": "code",
    "id": "pq6tAiUBkBEk",
    "outputId": "b8bd84a0-647a-4442-c5f8-1d0468b516c1"
   },
   "outputs": [],
   "source": [
    "# plot_sequence(results_seq[seq_name],\n",
    "#               [s for s in sequences if str(s) == seq_name][0],\n",
    "#               first_n_frames=10)"
   ]
  }
 ],
 "metadata": {
  "accelerator": "GPU",
  "colab": {
   "collapsed_sections": [],
   "machine_shape": "hm",
   "name": "cv3dst_exercise.ipynb",
   "provenance": [],
   "toc_visible": true
  },
  "kernelspec": {
   "display_name": "Python 3.7 TF",
   "language": "python",
   "name": "tfenv"
  },
  "language_info": {
   "codemirror_mode": {
    "name": "ipython",
    "version": 3
   },
   "file_extension": ".py",
   "mimetype": "text/x-python",
   "name": "python",
   "nbconvert_exporter": "python",
   "pygments_lexer": "ipython3",
   "version": "3.7.5"
  },
  "widgets": {
   "application/vnd.jupyter.widget-state+json": {
    "1db65c17ad2c41bcb664316146dc1124": {
     "model_module": "@jupyter-widgets/controls",
     "model_name": "DescriptionStyleModel",
     "state": {
      "_model_module": "@jupyter-widgets/controls",
      "_model_module_version": "1.5.0",
      "_model_name": "DescriptionStyleModel",
      "_view_count": null,
      "_view_module": "@jupyter-widgets/base",
      "_view_module_version": "1.2.0",
      "_view_name": "StyleView",
      "description_width": ""
     }
    },
    "1e58e5e9e91440028a374061916f8a49": {
     "model_module": "@jupyter-widgets/base",
     "model_name": "LayoutModel",
     "state": {
      "_model_module": "@jupyter-widgets/base",
      "_model_module_version": "1.2.0",
      "_model_name": "LayoutModel",
      "_view_count": null,
      "_view_module": "@jupyter-widgets/base",
      "_view_module_version": "1.2.0",
      "_view_name": "LayoutView",
      "align_content": null,
      "align_items": null,
      "align_self": null,
      "border": null,
      "bottom": null,
      "display": null,
      "flex": null,
      "flex_flow": null,
      "grid_area": null,
      "grid_auto_columns": null,
      "grid_auto_flow": null,
      "grid_auto_rows": null,
      "grid_column": null,
      "grid_gap": null,
      "grid_row": null,
      "grid_template_areas": null,
      "grid_template_columns": null,
      "grid_template_rows": null,
      "height": null,
      "justify_content": null,
      "justify_items": null,
      "left": null,
      "margin": null,
      "max_height": null,
      "max_width": null,
      "min_height": null,
      "min_width": null,
      "object_fit": null,
      "object_position": null,
      "order": null,
      "overflow": null,
      "overflow_x": null,
      "overflow_y": null,
      "padding": null,
      "right": null,
      "top": null,
      "visibility": null,
      "width": null
     }
    },
    "86a641d733894888bbf20683ef21fcec": {
     "model_module": "@jupyter-widgets/controls",
     "model_name": "HBoxModel",
     "state": {
      "_dom_classes": [],
      "_model_module": "@jupyter-widgets/controls",
      "_model_module_version": "1.5.0",
      "_model_name": "HBoxModel",
      "_view_count": null,
      "_view_module": "@jupyter-widgets/controls",
      "_view_module_version": "1.5.0",
      "_view_name": "HBoxView",
      "box_style": "",
      "children": [
       "IPY_MODEL_b0ee328142a34e98b303f75ef38603cd",
       "IPY_MODEL_cd5653dc335c42e1bd1a62aa6c072494"
      ],
      "layout": "IPY_MODEL_d9b6477f756449d68d496afb694dce5a"
     }
    },
    "97c382d8b5a944e2b2a0dcf22bba88ee": {
     "model_module": "@jupyter-widgets/controls",
     "model_name": "ProgressStyleModel",
     "state": {
      "_model_module": "@jupyter-widgets/controls",
      "_model_module_version": "1.5.0",
      "_model_name": "ProgressStyleModel",
      "_view_count": null,
      "_view_module": "@jupyter-widgets/base",
      "_view_module_version": "1.2.0",
      "_view_name": "StyleView",
      "bar_color": null,
      "description_width": ""
     }
    },
    "b0ee328142a34e98b303f75ef38603cd": {
     "model_module": "@jupyter-widgets/controls",
     "model_name": "IntProgressModel",
     "state": {
      "_dom_classes": [],
      "_model_module": "@jupyter-widgets/controls",
      "_model_module_version": "1.5.0",
      "_model_name": "IntProgressModel",
      "_view_count": null,
      "_view_module": "@jupyter-widgets/controls",
      "_view_module_version": "1.5.0",
      "_view_name": "ProgressView",
      "bar_style": "success",
      "description": "",
      "description_tooltip": null,
      "layout": "IPY_MODEL_c2eb99d1cd35491c8327b0c91f5268ef",
      "max": 600,
      "min": 0,
      "orientation": "horizontal",
      "style": "IPY_MODEL_97c382d8b5a944e2b2a0dcf22bba88ee",
      "value": 600
     }
    },
    "c2eb99d1cd35491c8327b0c91f5268ef": {
     "model_module": "@jupyter-widgets/base",
     "model_name": "LayoutModel",
     "state": {
      "_model_module": "@jupyter-widgets/base",
      "_model_module_version": "1.2.0",
      "_model_name": "LayoutModel",
      "_view_count": null,
      "_view_module": "@jupyter-widgets/base",
      "_view_module_version": "1.2.0",
      "_view_name": "LayoutView",
      "align_content": null,
      "align_items": null,
      "align_self": null,
      "border": null,
      "bottom": null,
      "display": null,
      "flex": null,
      "flex_flow": null,
      "grid_area": null,
      "grid_auto_columns": null,
      "grid_auto_flow": null,
      "grid_auto_rows": null,
      "grid_column": null,
      "grid_gap": null,
      "grid_row": null,
      "grid_template_areas": null,
      "grid_template_columns": null,
      "grid_template_rows": null,
      "height": null,
      "justify_content": null,
      "justify_items": null,
      "left": null,
      "margin": null,
      "max_height": null,
      "max_width": null,
      "min_height": null,
      "min_width": null,
      "object_fit": null,
      "object_position": null,
      "order": null,
      "overflow": null,
      "overflow_x": null,
      "overflow_y": null,
      "padding": null,
      "right": null,
      "top": null,
      "visibility": null,
      "width": null
     }
    },
    "cd5653dc335c42e1bd1a62aa6c072494": {
     "model_module": "@jupyter-widgets/controls",
     "model_name": "HTMLModel",
     "state": {
      "_dom_classes": [],
      "_model_module": "@jupyter-widgets/controls",
      "_model_module_version": "1.5.0",
      "_model_name": "HTMLModel",
      "_view_count": null,
      "_view_module": "@jupyter-widgets/controls",
      "_view_module_version": "1.5.0",
      "_view_name": "HTMLView",
      "description": "",
      "description_tooltip": null,
      "layout": "IPY_MODEL_1e58e5e9e91440028a374061916f8a49",
      "placeholder": "​",
      "style": "IPY_MODEL_1db65c17ad2c41bcb664316146dc1124",
      "value": "100% 600/600 [05:16&lt;00:00,  2.04it/s]"
     }
    },
    "d9b6477f756449d68d496afb694dce5a": {
     "model_module": "@jupyter-widgets/base",
     "model_name": "LayoutModel",
     "state": {
      "_model_module": "@jupyter-widgets/base",
      "_model_module_version": "1.2.0",
      "_model_name": "LayoutModel",
      "_view_count": null,
      "_view_module": "@jupyter-widgets/base",
      "_view_module_version": "1.2.0",
      "_view_name": "LayoutView",
      "align_content": null,
      "align_items": null,
      "align_self": null,
      "border": null,
      "bottom": null,
      "display": null,
      "flex": null,
      "flex_flow": null,
      "grid_area": null,
      "grid_auto_columns": null,
      "grid_auto_flow": null,
      "grid_auto_rows": null,
      "grid_column": null,
      "grid_gap": null,
      "grid_row": null,
      "grid_template_areas": null,
      "grid_template_columns": null,
      "grid_template_rows": null,
      "height": null,
      "justify_content": null,
      "justify_items": null,
      "left": null,
      "margin": null,
      "max_height": null,
      "max_width": null,
      "min_height": null,
      "min_width": null,
      "object_fit": null,
      "object_position": null,
      "order": null,
      "overflow": null,
      "overflow_x": null,
      "overflow_y": null,
      "padding": null,
      "right": null,
      "top": null,
      "visibility": null,
      "width": null
     }
    }
   }
  }
 },
 "nbformat": 4,
 "nbformat_minor": 4
}
